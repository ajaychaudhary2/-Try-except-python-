{
 "cells": [
  {
   "cell_type": "markdown",
   "metadata": {},
   "source": [
    "# Q1 What is the role of the 'else' block in a try-except statement? Provide an example scenario where it would be useful."
   ]
  },
  {
   "cell_type": "markdown",
   "metadata": {},
   "source": [
    "# Solution 1"
   ]
  },
  {
   "cell_type": "markdown",
   "metadata": {},
   "source": [
    "### In try-except statement else block is optional and use to return something when there is no exception in the try block if there is no exception in the try block then else  block excuet and return the Code that we written in that See the example below;"
   ]
  },
  {
   "cell_type": "code",
   "execution_count": 5,
   "metadata": {},
   "outputs": [],
   "source": [
    "def division():\n",
    "    n1 = int(input(\"Enter the first number\"))\n",
    "\n",
    "    n2 = int(input(\"Enter the second number\"))\n",
    "    \n",
    "    try: # here we only give the code  and  doestnt return any value direct frm the try block we use th else block for this \n",
    "        division = n1/n2\n",
    "        \n",
    "        \n",
    "    except ZeroDivisionError:# divion was held  except the zero division \n",
    "        \n",
    "        return \"Error Division by zero is not acceptable\"\n",
    "    \n",
    "    \n",
    "    else:\n",
    "        print(\"Division succesfull\")\n",
    "        return f\"The value of {n1}/{n2} = {division}\"\n",
    "    \n",
    "\n",
    " "
   ]
  },
  {
   "cell_type": "code",
   "execution_count": 6,
   "metadata": {},
   "outputs": [
    {
     "name": "stdout",
     "output_type": "stream",
     "text": [
      "Division succesfull\n"
     ]
    },
    {
     "data": {
      "text/plain": [
       "'The value of 4/2 = 2.0'"
      ]
     },
     "execution_count": 6,
     "metadata": {},
     "output_type": "execute_result"
    }
   ],
   "source": [
    "division()"
   ]
  },
  {
   "cell_type": "code",
   "execution_count": 7,
   "metadata": {},
   "outputs": [
    {
     "data": {
      "text/plain": [
       "'Error Division by zero is not acceptable'"
      ]
     },
     "execution_count": 7,
     "metadata": {},
     "output_type": "execute_result"
    }
   ],
   "source": [
    "division()"
   ]
  },
  {
   "cell_type": "markdown",
   "metadata": {},
   "source": [
    "### In this example, the try block attempts to perform a division operation. If the division is successful (i.e., no ZeroDivisionError occurs), the else block is executed, printing the result"
   ]
  },
  {
   "cell_type": "markdown",
   "metadata": {},
   "source": [
    "## ------------------------------------------------------------------------------------------"
   ]
  },
  {
   "cell_type": "markdown",
   "metadata": {},
   "source": [
    "# Q2 Can a try-except block be nested inside another try-except block? Explain with an example."
   ]
  },
  {
   "cell_type": "markdown",
   "metadata": {},
   "source": [
    "# Solution 2"
   ]
  },
  {
   "cell_type": "markdown",
   "metadata": {},
   "source": [
    "###  Yes, a try-except block can be nested inside another try-except block. This nesting allows for more granular error handling, where specific exceptions can be caught and managed at different levels of code execution"
   ]
  },
  {
   "cell_type": "code",
   "execution_count": 8,
   "metadata": {},
   "outputs": [],
   "source": [
    "def division():\n",
    "    n1 = int(input(\"Enter the first number\"))\n",
    "\n",
    "    n2 = int(input(\"Enter the second number\"))\n",
    "    \n",
    "    try: # here we only give the code  and  doestnt return any value direct frm the try block we use th else block for this \n",
    "        division = n1/n2\n",
    "        \n",
    "        \n",
    "    except ZeroDivisionError:# divion was held  except the zero division \n",
    "        \n",
    "        return \"Error Division by zero is not acceptable\"\n",
    "    \n",
    "    \n",
    "    else:\n",
    "        try:\n",
    "            print(f\"Division {n1}/{n2} = \",division)\n",
    "            \n",
    "            squred_Numb = division**2\n",
    "            \n",
    "            print(f\"Squre of {division} = \", squred_Numb)\n",
    "            \n",
    "            \n",
    "        except Exception as e:\n",
    "            print(\"Error:\", e)"
   ]
  },
  {
   "cell_type": "code",
   "execution_count": 9,
   "metadata": {},
   "outputs": [
    {
     "name": "stdout",
     "output_type": "stream",
     "text": [
      "Division 100/5 =  20.0\n",
      "Squre of 20.0 =  400.0\n"
     ]
    }
   ],
   "source": [
    "division()"
   ]
  },
  {
   "cell_type": "markdown",
   "metadata": {},
   "source": [
    "## ------------------------------------------------------------------------------------------"
   ]
  },
  {
   "cell_type": "markdown",
   "metadata": {},
   "source": [
    "\n",
    "# Q3. How can you create a custom exception class in Python? Provide an example that demonstrates its usage."
   ]
  },
  {
   "cell_type": "markdown",
   "metadata": {},
   "source": [
    "# Solution 3\n"
   ]
  },
  {
   "cell_type": "markdown",
   "metadata": {},
   "source": [
    "### We can create a custom error like this"
   ]
  },
  {
   "cell_type": "code",
   "execution_count": 4,
   "metadata": {},
   "outputs": [
    {
     "name": "stdout",
     "output_type": "stream",
     "text": [
      "Error Occur: Division by zero is not acceptable\n"
     ]
    }
   ],
   "source": [
    "class Customerror(Exception): # define a custom error\n",
    "    def __init__(self, message) :\n",
    "        \n",
    "        self.message=message\n",
    "        super().__init__(self.message)\n",
    "        \n",
    "def division(): # define condition of customerror\n",
    "    a=int(input(\"Enter first number\"))\n",
    "    b=int(input(\"Enter second number\"))\n",
    "    \n",
    "    if b==0:\n",
    "        \n",
    "        raise Customerror(\"Division by zero is not acceptable\")\n",
    "    return a/b\n",
    "    \n",
    "    \n",
    "\n",
    "\n",
    "try:\n",
    "    result = division()\n",
    "    print(\"result of division\",result)\n",
    "    \n",
    "except Customerror as e:\n",
    "    print(\"Error Occur:\",e)\n",
    "    \n",
    "    "
   ]
  },
  {
   "cell_type": "markdown",
   "metadata": {},
   "source": [
    "#### 1. We define a custom exception class called CustomError, which inherits from the built-in Exception class.\n",
    "#### 2. The __init__ method is overridden to accept a message parameter, which is then passed to the superclass constructor.\n",
    "#### 3. We define a function divide(a, b) that performs division and raises a CustomError if the divisor b is zero.\n",
    "#### 4. In the try block, we call the divide function . Since division by zero is not allowed, it raises a CustomError.\n",
    "#### 5. In the except block, we catch the CustomError exception and print out the error message."
   ]
  },
  {
   "cell_type": "markdown",
   "metadata": {},
   "source": [
    "## ------------------------------------------------------------------------------------------"
   ]
  },
  {
   "cell_type": "markdown",
   "metadata": {},
   "source": [
    "# Q4 What are some common exceptions that are built-in to Python?"
   ]
  },
  {
   "cell_type": "markdown",
   "metadata": {},
   "source": [
    "# Solution 4"
   ]
  },
  {
   "cell_type": "markdown",
   "metadata": {},
   "source": [
    "###  Python comes with a variety of built-in exceptions that cover a wide range of errors and exceptional situations. Here are some of the most common ones:"
   ]
  },
  {
   "cell_type": "markdown",
   "metadata": {},
   "source": [
    "#### 1. SyntaxError: Raised when the Python parser encounters a syntax error in the code.\n",
    "#### 2. IndentationError: Subclass of SyntaxError, raised when there is incorrect indentation in the code.\n",
    "#### 3. NameError: Raised when a local or global name is not found.\n",
    "#### 4. TypeError: Raised when an operation or function is applied to an object of inappropriate type.\n",
    "#### 5. ValueError: Raised when a function receives an argument of correct type but with an inappropriate value.\n",
    "#### 6. KeyError: Raised when a dictionary key is not found in the set of existing keys.\n",
    "#### 7. IndexError: Raised when a sequence subscript (e.g., list, tuple) is out of range.\n",
    "#### 8. FileNotFoundError: Raised when a file or directory is requested but cannot be found."
   ]
  },
  {
   "cell_type": "markdown",
   "metadata": {},
   "source": [
    "## ------------------------------------------------------------------------------------------"
   ]
  },
  {
   "cell_type": "markdown",
   "metadata": {},
   "source": [
    "# Q5 What is logging in Python, and why is it important in software development?"
   ]
  },
  {
   "cell_type": "markdown",
   "metadata": {},
   "source": [
    "# Solution 5"
   ]
  },
  {
   "cell_type": "markdown",
   "metadata": {},
   "source": [
    "## Logging in Python refers to the process of recording events, messages, and other information during the execution of a program. The logging module in Python provides a flexible and customizable way to implement logging functionality in your applications."
   ]
  },
  {
   "cell_type": "markdown",
   "metadata": {},
   "source": [
    "## The importance of logging in python"
   ]
  },
  {
   "cell_type": "markdown",
   "metadata": {},
   "source": [
    "#### 1. Debugging: Logging allows developers to track the flow of execution and identify issues or errors in their code. By logging relevant information, such as variable values or the paths taken through the code, developers can diagnose and debug problems more effectively.\n",
    "#### 2. Error Handling: Logging is crucial for error handling and exception reporting. When errors occur, logging enables developers to record the details of the error, including the stack trace and contextual information, which can be invaluable for troubleshooting and resolving issues.\n",
    "#### 3. Monitoring and Analysis: Logging provides insights into the behavior and performance of an application. By logging metrics, such as response times, resource utilization, or user interactions, developers can monitor the health of their application and identify areas for optimization or improvement.\n",
    "#### 4. Auditing and Compliance: Logging helps maintain a record of important events and actions within an application. This audit trail can be useful for compliance with regulatory requirements, security auditing, or tracking user activity."
   ]
  },
  {
   "cell_type": "markdown",
   "metadata": {},
   "source": [
    "## ------------------------------------------------------------------------------------------"
   ]
  },
  {
   "cell_type": "markdown",
   "metadata": {},
   "source": [
    "# Q6 Explain the purpose of log levels in Python logging and provide examples of when each log level would be appropriate."
   ]
  },
  {
   "cell_type": "markdown",
   "metadata": {},
   "source": [
    "# Solution 6"
   ]
  },
  {
   "cell_type": "markdown",
   "metadata": {},
   "source": [
    "## In Python logging, log levels are used to categorize and prioritize log messages based on their severity or importance. The logging module provides several standard log levels, each serving a specific purpose. Here are the common log levels along with their purposes and examples of when each level would be appropriate"
   ]
  },
  {
   "cell_type": "markdown",
   "metadata": {},
   "source": [
    "### DEBUG: This is the lowest log level, primarily used for debugging purposes."
   ]
  },
  {
   "cell_type": "code",
   "execution_count": 6,
   "metadata": {},
   "outputs": [
    {
     "name": "stderr",
     "output_type": "stream",
     "text": [
      "DEBUG:__main__:Received inputs: a=4, b=5\n",
      "DEBUG:__main__:Result of calculation: 20\n"
     ]
    },
    {
     "data": {
      "text/plain": [
       "20"
      ]
     },
     "execution_count": 6,
     "metadata": {},
     "output_type": "execute_result"
    }
   ],
   "source": [
    "import logging\n",
    "logging.basicConfig(level=logging.DEBUG)\n",
    "logger = logging.getLogger(__name__)\n",
    "\n",
    "def complex_algorithm(a, b):\n",
    "    logger.debug(f\"Received inputs: a={a}, b={b}\")\n",
    "    # Perform complex calculations\n",
    "    result = a * b\n",
    "    logger.debug(f\"Result of calculation: {result}\")\n",
    "    return result\n",
    "\n",
    "complex_algorithm(4,5)"
   ]
  },
  {
   "cell_type": "markdown",
   "metadata": {},
   "source": [
    "### INFO: Info messages provide general information about the program's execution, such as initialization, configuration, or important milestones."
   ]
  },
  {
   "cell_type": "code",
   "execution_count": 9,
   "metadata": {},
   "outputs": [
    {
     "name": "stderr",
     "output_type": "stream",
     "text": [
      "INFO:__main__:Application strt\n",
      "INFO:__main__:Inizilation the application\n",
      "INFO:__main__:Execute the main logic\n"
     ]
    }
   ],
   "source": [
    "import logging\n",
    "\n",
    "\n",
    "logging.basicConfig(level=logging.INFO)\n",
    "\n",
    "logger = logging.getLogger(__name__)\n",
    "\n",
    "def main():\n",
    "    # start the application \n",
    "    logger.info(\"Application strt\")\n",
    "    \n",
    "    #  inislisatiion the applicaiton\n",
    "    logger.info(\"Inizilation the application\")\n",
    "    \n",
    "    # executing the main logic\n",
    "    logger.info(\"Execute the main logic\")\n",
    "    \n",
    "    \n",
    "\n",
    "if __name__ == \"__main__\":\n",
    "    \n",
    "    main()\n",
    "    \n",
    "    \n",
    "    "
   ]
  },
  {
   "cell_type": "markdown",
   "metadata": {},
   "source": [
    "### WARNING: Warnings indicate potential issues or unexpected conditions that do not necessarily prevent the program from running but may require attention.\n",
    "\n",
    "\n",
    "\n",
    "\n",
    "\n"
   ]
  },
  {
   "cell_type": "code",
   "execution_count": 7,
   "metadata": {},
   "outputs": [
    {
     "name": "stderr",
     "output_type": "stream",
     "text": [
      "WARNING:__main__:recieve empty data\n"
     ]
    }
   ],
   "source": [
    "import logging\n",
    "logging.basicConfig(level=logging.WARNING)\n",
    "\n",
    "logger=logging.getLogger(__name__)\n",
    "\n",
    "def data_p(data):\n",
    "    if not data:\n",
    "        logger.warning(\"recieve empty data\")\n",
    "\n",
    "\n",
    "data_p([])\n",
    "\n",
    "\n"
   ]
  },
  {
   "cell_type": "markdown",
   "metadata": {},
   "source": [
    "### ERROR: Error messages indicate that something has gone wrong, but the program can still continue running\n"
   ]
  },
  {
   "cell_type": "code",
   "execution_count": 9,
   "metadata": {},
   "outputs": [
    {
     "name": "stderr",
     "output_type": "stream",
     "text": [
      "ERROR:__main__:division by zero\n"
     ]
    }
   ],
   "source": [
    "import logging\n",
    "logging.basicConfig(level=logging.ERROR)\n",
    "logger=logging.getLogger(__name__)\n",
    "\n",
    "def divide(a,b):\n",
    "    \n",
    "    try:\n",
    "        result=a/b\n",
    "        \n",
    "        return result\n",
    "\n",
    "    except ZeroDivisionError:\n",
    "        logger.error(\"division by zero\")\n",
    "        \n",
    "divide(4,0)\n",
    "        "
   ]
  },
  {
   "cell_type": "markdown",
   "metadata": {},
   "source": [
    "### CRITICAL: Critical messages indicate severe failures that may result in the termination of the program or significant data loss"
   ]
  },
  {
   "cell_type": "code",
   "execution_count": 15,
   "metadata": {},
   "outputs": [],
   "source": [
    "import logging\n",
    "\n",
    "\n",
    "logging.basicConfig(level=logging.CRITICAL)\n",
    "logger = logging.getLogger(__name__)\n",
    "\n",
    "def critical_operation():\n",
    "    # Perform critical operation\n",
    "    if not critical_condition:\n",
    "        logger.critical(\"Critical condition not met, aborting operation\")\n",
    "        sys.exit(1)\n",
    "\n"
   ]
  },
  {
   "cell_type": "markdown",
   "metadata": {},
   "source": [
    "## ------------------------------------------------------------------------------------------"
   ]
  },
  {
   "cell_type": "markdown",
   "metadata": {},
   "source": [
    "# Q7 What are log formatters in Python logging, and how can you customise the log message format using formatters?"
   ]
  },
  {
   "cell_type": "markdown",
   "metadata": {},
   "source": [
    "# Solution 7"
   ]
  },
  {
   "cell_type": "markdown",
   "metadata": {},
   "source": [
    "## The Formatter class in the logging module allows you to create custom log message formats. Here's how you can do it"
   ]
  },
  {
   "cell_type": "markdown",
   "metadata": {},
   "source": [
    "### 1. Create a Formatter instance: Instantiate the Formatter class with the desired format string.\n",
    "### 2. Configure the formatter for your logger handlers: Assign the formatter to the handlers of your logger.\n",
    "### 3. Set the formatter for your logger: Optionally, set the formatter directly to your logger if you want all handlers to use the same format."
   ]
  },
  {
   "cell_type": "code",
   "execution_count": null,
   "metadata": {},
   "outputs": [],
   "source": [
    "\n",
    "import logging\n",
    "\n",
    "# Create a Formatter instance with a custom format\n",
    "formatter = logging.Formatter('%(asctime)s - %(levelname)s - %(message)s')\n",
    "\n",
    "# Create a logger instance\n",
    "logger = logging.getLogger(__name__)\n",
    "\n",
    "# Create a console handler and set the formatter\n",
    "console_handler = logging.StreamHandler()\n",
    "console_handler.setFormatter(formatter)\n",
    "\n",
    "# Add the console handler to the logger\n",
    "logger.addHandler(console_handler)\n",
    "\n",
    "# Optionally, set the formatter directly to the logger if you want all handlers to use the same format\n",
    "logger.setFormatter(formatter)\n",
    "\n",
    "# Test the logger\n",
    "logger.setLevel(logging.DEBUG)\n",
    "logger.debug('This is a debug message')\n",
    "logger.info('This is an info message')\n",
    "logger.warning('This is a warning message')\n",
    "logger.error('This is an error message')\n",
    "logger.critical('This is a critical message')\n"
   ]
  },
  {
   "cell_type": "markdown",
   "metadata": {},
   "source": [
    "## ------------------------------------------------------------------------------------------"
   ]
  },
  {
   "cell_type": "markdown",
   "metadata": {},
   "source": [
    "# Q8 How can you set up logging to capture log messages from multiple modules or classes in a Python application?"
   ]
  },
  {
   "cell_type": "markdown",
   "metadata": {},
   "source": [
    "# Solution 8"
   ]
  },
  {
   "cell_type": "markdown",
   "metadata": {},
   "source": [
    "## Here is thre exameple hpw we   capture log messages from different module"
   ]
  },
  {
   "cell_type": "code",
   "execution_count": null,
   "metadata": {},
   "outputs": [],
   "source": [
    "# module1.py\n",
    "import logging\n",
    "\n",
    "# Create a logger for module1\n",
    "logger = logging.getLogger(__name__)\n",
    "\n",
    "# Configure logging\n",
    "logger.setLevel(logging.DEBUG)\n",
    "formatter = logging.Formatter('%(asctime)s - %(name)s - %(levelname)s - %(message)s')\n",
    "console_handler = logging.StreamHandler()\n",
    "console_handler.setFormatter(formatter)\n",
    "logger.addHandler(console_handler)\n",
    "\n",
    "def some_function():\n",
    "    logger.debug('This is a debug message from module1')\n",
    "    logger.info('This is an info message from module1')\n",
    "    logger.warning('This is a warning message from module1')\n",
    "    logger.error('This is an error message from module1')\n",
    "    logger.critical('This is a critical message from module1')\n",
    "\n",
    "# module2.py\n",
    "import logging\n",
    "\n",
    "# Create a logger for module2\n",
    "logger = logging.getLogger(__name__)\n",
    "\n",
    "# Configure logging\n",
    "logger.setLevel(logging.DEBUG)\n",
    "formatter = logging.Formatter('%(asctime)s - %(name)s - %(levelname)s - %(message)s')\n",
    "file_handler = logging.FileHandler('module2.log')\n",
    "file_handler.setFormatter(formatter)\n",
    "logger.addHandler(file_handler)\n",
    "\n",
    "def some_function():\n",
    "    logger.debug('This is a debug message from module2')\n",
    "    logger.info('This is an info message from module2')\n",
    "    logger.warning('This is a warning message from module2')\n",
    "    logger.error('This is an error message from module2')\n",
    "    logger.critical('This is a critical message from module2')\n",
    "\n",
    "# main.py\n",
    "import logging\n",
    "import module1\n",
    "import module2\n",
    "\n",
    "# Configure root logger (optional)\n",
    "logging.basicConfig(level=logging.DEBUG)\n",
    "\n",
    "# Call functions from both modules\n",
    "module1.some_function()\n",
    "module2.some_function()\n"
   ]
  },
  {
   "cell_type": "markdown",
   "metadata": {},
   "source": [
    "## ------------------------------------------------------------------------------------------"
   ]
  },
  {
   "cell_type": "markdown",
   "metadata": {},
   "source": [
    "# Q9 What is the difference between the logging and print statements in Python? When should you use logging over print statements in a real-world application?"
   ]
  },
  {
   "cell_type": "markdown",
   "metadata": {},
   "source": [
    "# Solution 9"
   ]
  },
  {
   "cell_type": "markdown",
   "metadata": {},
   "source": [
    "## 1. Purpose:\n",
    "### - Logging: Logging is primarily used for recording events, messages, and diagnostic information during program execution. It provides a flexible and structured way to capture information about the program's behavior, such as errors, warnings, informational messages, and debugging information.\n",
    "### - Print statements: Print statements are typically used for simple debugging and quick inspection of values or intermediate results during development. They are straightforward to use and provide immediate feedback by printing output directly to the console or standard output.\n",
    "## 2. Flexibility:\n",
    "### - Logging: Logging offers more flexibility and control over the output of messages. It allows you to define different log levels (e.g., DEBUG, INFO, WARNING, ERROR, CRITICAL), specify different destinations for log messages (e.g., console, files, network streams), and customize the format of log messages using formatters.\n",
    "### - Print statements: Print statements are less flexible and provide limited customization options. They output messages directly to the console without any control over log levels, formatting, or destinations.\n"
   ]
  },
  {
   "cell_type": "markdown",
   "metadata": {},
   "source": [
    "## In a real-world application, you should use logging over print statements when:"
   ]
  },
  {
   "cell_type": "markdown",
   "metadata": {},
   "source": [
    "### 1. we need to record events, errors, warnings, and other information for debugging, troubleshooting, and monitoring purposes.\n",
    "### 2. we require flexibility in controlling the output of log messages, such as specifying log levels, formatting messages, and directing them to different destinations.\n",
    "### 3. we need to scale your application and maintainability is a concern, especially in larger projects or production environments."
   ]
  },
  {
   "cell_type": "markdown",
   "metadata": {},
   "source": [
    "## ------------------------------------------------------------------------------------------"
   ]
  },
  {
   "cell_type": "markdown",
   "metadata": {},
   "source": [
    "# Q10 10. Write a Python program that logs a message to a file named \"app.log\" with the following requirements:\n",
    "## ● The log message should be \"Hello, World!\"\n",
    "## ● The log level should be set to \"INFO.\"\n",
    "## ● The log file should append new log entries without overwriting previous ones."
   ]
  },
  {
   "cell_type": "markdown",
   "metadata": {},
   "source": [
    "# Solution 10"
   ]
  },
  {
   "cell_type": "code",
   "execution_count": 35,
   "metadata": {},
   "outputs": [
    {
     "name": "stderr",
     "output_type": "stream",
     "text": [
      "2024-04-24 11:31:02,679 - INFO - Hello World\n",
      "2024-04-24 11:31:02,679 - INFO - Hello World\n",
      "2024-04-24 11:31:02,679 - INFO - Hello World\n",
      "2024-04-24 11:31:02,679 - INFO - Hello World\n",
      "2024-04-24 11:31:02,679 - INFO - Hello World\n",
      "2024-04-24 11:31:02,679 - INFO - Hello World\n",
      "2024-04-24 11:31:02,679 - INFO - Hello World\n",
      "2024-04-24 11:31:02,679 - INFO - Hello World\n",
      "2024-04-24 11:31:02,679 - INFO - Hello World\n",
      "2024-04-24 11:31:02,679 - INFO - Hello World\n",
      "2024-04-24 11:31:02,679 - INFO - Hello World\n",
      "2024-04-24 11:31:02,679 - __main__ - INFO - Hello World\n",
      "INFO:__main__:Hello World\n"
     ]
    }
   ],
   "source": [
    "# here is the programme\n",
    "\n",
    "import logging\n",
    "#Create logger\n",
    "logger = logging.getLogger(__name__)\n",
    "# Set logging level tp Info\n",
    "logger.setLevel(logging.INFO)\n",
    "\n",
    "# Create a file handler and set it to append mode\n",
    "file_handler=logging.FileHandler(\"app.log\",mode ='a')\n",
    "\n",
    "#create formater\n",
    "formatter=logging.Formatter('%(asctime)s - %(levelname)s - %(message)s')\n",
    "\n",
    "# Set formatter for the file handler\n",
    "file_handler.setFormatter(formatter)\n",
    "\n",
    "#Add the file handler the logger \n",
    "logger.addHandler(file_handler)\n",
    "\n",
    "#log the message hello world\n",
    "logger.info(\"Hello World\")\n"
   ]
  },
  {
   "cell_type": "markdown",
   "metadata": {},
   "source": [
    "## ------------------------------------------------------------------------------------------"
   ]
  },
  {
   "cell_type": "markdown",
   "metadata": {},
   "source": [
    "# Q11 Create a Python program that logs an error message to the console and a file named \"errors.log\" if an exception occurs during the program's execution. The error message should include the exception type and a timestamp."
   ]
  },
  {
   "cell_type": "markdown",
   "metadata": {},
   "source": [
    "# Solution 11"
   ]
  },
  {
   "cell_type": "code",
   "execution_count": 43,
   "metadata": {},
   "outputs": [
    {
     "name": "stderr",
     "output_type": "stream",
     "text": [
      "ERROR:root:2024-04-24 11:49:39.851636 - Exception occurred: ZeroDivisionError - <class 'Exception'>\n"
     ]
    }
   ],
   "source": [
    "import logging\n",
    "import datetime\n",
    "\n",
    "def main():\n",
    "    try:\n",
    "        result = 10 / 0\n",
    "        print(\"Result:\", result)\n",
    "        \n",
    "    except ZeroDivisionError as e:\n",
    "        log_exception(e)\n",
    "        \n",
    "        \n",
    "def log_exception(exception):\n",
    "    logging.basicConfig(filename='error.log',level=logging.ERROR, format='%(asctime)s - %(levelname)s - %(message)s',datefmt='%Y-%m-%d %H:%M:%S')\n",
    "    \n",
    "    logging.error(f\"{datetime.datetime.now()} - Exception occurred: {type(exception).__name__} - {Exception}\")\n",
    "    \n",
    "    \n",
    "if __name__ == \"__main__\":\n",
    "    main()\n",
    "    \n",
    "        "
   ]
  },
  {
   "cell_type": "code",
   "execution_count": null,
   "metadata": {},
   "outputs": [],
   "source": []
  }
 ],
 "metadata": {
  "kernelspec": {
   "display_name": "Python 3",
   "language": "python",
   "name": "python3"
  },
  "language_info": {
   "codemirror_mode": {
    "name": "ipython",
    "version": 3
   },
   "file_extension": ".py",
   "mimetype": "text/x-python",
   "name": "python",
   "nbconvert_exporter": "python",
   "pygments_lexer": "ipython3",
   "version": "3.11.4"
  }
 },
 "nbformat": 4,
 "nbformat_minor": 2
}
